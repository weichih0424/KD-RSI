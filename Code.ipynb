{
 "cells": [
  {
   "cell_type": "code",
   "execution_count": 81,
   "metadata": {},
   "outputs": [],
   "source": [
    "import os\n",
    "import pandas as pd\n",
    "inPath = os.path.join(\".\",\"input/\")\n",
    "outPath =os.path.join(\".\",\"output/\")"
   ]
  },
  {
   "cell_type": "code",
   "execution_count": null,
   "metadata": {},
   "outputs": [],
   "source": [
    "get = input(\"檔案名稱:\")  #寶齡富錦(1760)\n",
    "dbPath = inPath + get +\".xlsx\"\n",
    "data= pd.read_excel(dbPath)"
   ]
  },
  {
   "cell_type": "code",
   "execution_count": null,
   "metadata": {},
   "outputs": [],
   "source": [
    "KD = []\n",
    "K = data['K(9,3)']\n",
    "D = data['D(9,3)']\n",
    "\n",
    "KD.append('NaN')\n",
    "x=0\n",
    "\n",
    "for i in range(1,len(data)):\n",
    "    x = K[i-1] - D[i-1]\n",
    "    y = K[i] - D[i]\n",
    "    if x > 0 and y < 0:\n",
    "        KD.append('死亡交叉')\n",
    "    elif x < 0 and y > 0:\n",
    "        KD.append('黃金交叉')\n",
    "    else:\n",
    "        KD.append('NaN')\n",
    "\n",
    "data['KD'] = KD"
   ]
  },
  {
   "cell_type": "code",
   "execution_count": null,
   "metadata": {},
   "outputs": [],
   "source": [
    "data2 = data.loc[(data['KD']=='死亡交叉') | (data['KD']=='黃金交叉')]\n",
    "data = data2['時間'].astype(str)\n",
    "data2['時間'] = data\n",
    "data2 = data2.reset_index()\n",
    "data2 =data2.drop(columns=['index'])\n",
    "\n",
    "SMA60 = data2['SMA60']\n",
    "close = data2['收盤價']\n",
    "KD = data2['KD']\n",
    "\n",
    "BUY = []\n",
    "for i in range(len(data2)):\n",
    "    x = close[i] - SMA60[i]\n",
    "    if x > 0 and KD[i]=='黃金交叉':\n",
    "        BUY.append('買')\n",
    "    elif x < 0 and KD[i]=='死亡交叉':\n",
    "        BUY.append('賣')\n",
    "    else:\n",
    "        BUY.append('再考慮')\n"
   ]
  },
  {
   "cell_type": "code",
   "execution_count": null,
   "metadata": {},
   "outputs": [],
   "source": [
    "dict1 = {\"日期\": data2['時間'],  \n",
    "        \"K值\": data2['K(9,3)'],\n",
    "        \"D值\": data2['D(9,3)'],\n",
    "        \"黃金/死亡交叉\" : data2['KD'],\n",
    "        \"RSI\":data2['RSI 6'],\n",
    "        \"當天收盤股價\": data2['收盤價'],\n",
    "        \"季線\" : data2['SMA60'],\n",
    "        \"買或賣\" : BUY\n",
    "       }\n",
    "df=pd.DataFrame(dict1)\n",
    "print(df)\n",
    "df.to_excel(outPath+get+\".xlsx\",encoding=\"utf8\")"
   ]
  },
  {
   "cell_type": "code",
   "execution_count": null,
   "metadata": {},
   "outputs": [],
   "source": []
  },
  {
   "cell_type": "code",
   "execution_count": null,
   "metadata": {},
   "outputs": [],
   "source": []
  },
  {
   "cell_type": "code",
   "execution_count": null,
   "metadata": {},
   "outputs": [],
   "source": []
  },
  {
   "cell_type": "code",
   "execution_count": null,
   "metadata": {},
   "outputs": [],
   "source": []
  },
  {
   "cell_type": "code",
   "execution_count": null,
   "metadata": {},
   "outputs": [],
   "source": []
  }
 ],
 "metadata": {
  "kernelspec": {
   "display_name": "Python 3",
   "language": "python",
   "name": "python3"
  },
  "language_info": {
   "codemirror_mode": {
    "name": "ipython",
    "version": 3
   },
   "file_extension": ".py",
   "mimetype": "text/x-python",
   "name": "python",
   "nbconvert_exporter": "python",
   "pygments_lexer": "ipython3",
   "version": "3.8.3"
  }
 },
 "nbformat": 4,
 "nbformat_minor": 2
}
